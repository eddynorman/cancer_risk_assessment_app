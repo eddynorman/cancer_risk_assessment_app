{
 "cells": [
  {
   "cell_type": "code",
   "execution_count": null,
   "id": "c043ab31",
   "metadata": {},
   "outputs": [],
   "source": [
    "import pandas as pd\n",
    "import numpy as np\n",
    "import tensorflow as tf\n",
    "from tensorflow import keras\n",
    "from tensorflow.keras import layers\n",
    "from tensorflow.keras.callbacks import EarlyStopping, ReduceLROnPlateau\n",
    "\n",
    "from sklearn.model_selection import train_test_split\n",
    "from sklearn.preprocessing import MinMaxScaler, StandardScaler\n",
    "from imblearn.over_sampling import SMOTE"
   ]
  },
  {
   "cell_type": "code",
   "execution_count": null,
   "id": "706fcba3",
   "metadata": {},
   "outputs": [],
   "source": [
    "# Loading the cleaned data from the CSV file for training\n",
    "cancer_data = pd.read_csv('../datasets/cleaned_breast_cancer_data.csv')"
   ]
  },
  {
   "cell_type": "code",
   "execution_count": null,
   "id": "966f25eb",
   "metadata": {},
   "outputs": [],
   "source": [
    "# We first convert our data frame into numpy arrays\n",
    "X_initial = np.array(cancer_data.drop(columns=[\"breast_cancer_history\"])).astype(\"float32\")\n",
    "y_initial = np.array(cancer_data[\"breast_cancer_history\"]).astype(\"float32\")\n",
    " "
   ]
  },
  {
   "cell_type": "code",
   "execution_count": null,
   "id": "f1a8d610",
   "metadata": {},
   "outputs": [],
   "source": [
    "# Apply SMOTE (Synthetic Minority Over-sampling Technique) to balance the dataset\n",
    "# SMOTE increases the samples of the minority class to achieve a balanced distribution\n",
    "\n",
    "smote = SMOTE(random_state=12)  \n",
    "# Generate a balanced dataset with SMOTE\n",
    "X, y = smote.fit_resample(X_initial, y_initial)  "
   ]
  },
  {
   "cell_type": "code",
   "execution_count": null,
   "id": "497a5c4f",
   "metadata": {},
   "outputs": [],
   "source": [
    "#We split the data into training and test sets\n",
    "X_train,X_test,y_train,y_test = train_test_split(X,y,random_state=12)\n"
   ]
  },
  {
   "cell_type": "code",
   "execution_count": null,
   "id": "c387dd1a",
   "metadata": {},
   "outputs": [],
   "source": [
    "#Since some algorithms require scaled data for better performance, we are going to also prepare scaled data\n",
    "# scaler = MinMaxScaler();\n",
    "# scaler.fit(X_train);\n",
    "# X_train_scaled = scaler.transform(X_train)\n",
    "# X_test_scaled = scaler.transform(X_test)\n",
    "\n",
    "scaler = StandardScaler()\n",
    "X_train = scaler.fit_transform(X_train)\n",
    "X_test = scaler.transform(X_test)"
   ]
  },
  {
   "cell_type": "code",
   "execution_count": null,
   "id": "82527b60",
   "metadata": {},
   "outputs": [],
   "source": [
    "# Build MLP Model with Optimizations\n",
    "model = tf.keras.Sequential([\n",
    "    # Input layer with proper Input layer usage\n",
    "    layers.InputLayer(input_shape=(X_train.shape[1],)),  # or layers.Input(shape=(X_train.shape[1],))\n",
    "    \n",
    "     # Hidden Layer 1 with Dropout and BatchNormalization\n",
    "    layers.Dense(128, activation='relu'),\n",
    "    layers.BatchNormalization(),\n",
    "    layers.Dropout(0.2),  # Apply dropout to prevent overfitting\n",
    "    \n",
    "    # Hidden Layer 1 with Dropout and BatchNormalization\n",
    "    layers.Dense(64, activation='relu'),\n",
    "    layers.BatchNormalization(),\n",
    "    layers.Dropout(0.2),  # Apply dropout to prevent overfitting\n",
    "    \n",
    "    # Hidden Layer 2 with Dropout and BatchNormalization\n",
    "    layers.Dense(32, activation='relu'),\n",
    "    layers.BatchNormalization(),\n",
    "    layers.Dropout(0.2),  # Apply dropout to prevent overfitting\n",
    "    \n",
    "    # Output layer for binary classification\n",
    "    layers.Dense(1, activation='sigmoid')  # 1 neuron for binary classification\n",
    "])\n"
   ]
  },
  {
   "cell_type": "code",
   "execution_count": null,
   "id": "45e9be30",
   "metadata": {},
   "outputs": [],
   "source": [
    "# Compile the model with AdamW optimizer\n",
    "model.compile(\n",
    "    optimizer=tf.keras.optimizers.AdamW(learning_rate=0.001),  # AdamW optimizer for better performance\n",
    "    loss='binary_crossentropy',  # Binary classification\n",
    "    metrics=['accuracy']\n",
    ")"
   ]
  },
  {
   "cell_type": "code",
   "execution_count": null,
   "id": "7f2b76cb",
   "metadata": {},
   "outputs": [],
   "source": [
    "# Add EarlyStopping and ReduceLROnPlateau callbacks for better training control\n",
    "early_stopping = EarlyStopping(monitor='val_loss', patience=5, restore_best_weights=True)\n",
    "reduce_lr = ReduceLROnPlateau(monitor='val_loss', factor=0.2, patience=3, min_lr=1e-6)"
   ]
  },
  {
   "cell_type": "code",
   "execution_count": null,
   "id": "383a7a29",
   "metadata": {},
   "outputs": [],
   "source": [
    "# Summary of the model architecture\n",
    "model.summary()\n"
   ]
  },
  {
   "cell_type": "code",
   "execution_count": null,
   "id": "a6c83110",
   "metadata": {},
   "outputs": [],
   "source": [
    "# Train the model (example)\n",
    "history = model.fit(\n",
    "    X_train, y_train, \n",
    "    epochs=50, \n",
    "    batch_size=32, \n",
    "    validation_data=(X_test, y_test),\n",
    "    callbacks=[early_stopping, reduce_lr]\n",
    ")"
   ]
  },
  {
   "cell_type": "code",
   "execution_count": null,
   "id": "d05f4fd8",
   "metadata": {},
   "outputs": [],
   "source": [
    "# Evaluate the model\n",
    "test_loss, test_accuracy = model.evaluate(X_test, y_test)\n",
    "print(f'Test accuracy: {test_accuracy}')"
   ]
  },
  {
   "cell_type": "code",
   "execution_count": null,
   "id": "134d935d",
   "metadata": {},
   "outputs": [],
   "source": [
    "# 8. Save model\n",
    "model.save('./saved_models/breast_cancer_model.h5')"
   ]
  },
  {
   "cell_type": "code",
   "execution_count": null,
   "id": "0e29c722",
   "metadata": {},
   "outputs": [],
   "source": [
    "# Load\n",
    "model = tf.keras.models.load_model('./saved_models/breast_cancer_model.h5')\n",
    "\n",
    "# Convert\n",
    "converter = tf.lite.TFLiteConverter.from_keras_model(model)\n",
    "tflite_model = converter.convert()\n",
    "\n",
    "# Save\n",
    "with open('./saved_models/breast_cancer_model.tflite', 'wb') as f:\n",
    "    f.write(tflite_model)\n"
   ]
  }
 ],
 "metadata": {
  "kernelspec": {
   "display_name": "Python 3 (ipykernel)",
   "language": "python",
   "name": "python3"
  },
  "language_info": {
   "codemirror_mode": {
    "name": "ipython",
    "version": 3
   },
   "file_extension": ".py",
   "mimetype": "text/x-python",
   "name": "python",
   "nbconvert_exporter": "python",
   "pygments_lexer": "ipython3",
   "version": "3.11.2"
  }
 },
 "nbformat": 4,
 "nbformat_minor": 5
}
